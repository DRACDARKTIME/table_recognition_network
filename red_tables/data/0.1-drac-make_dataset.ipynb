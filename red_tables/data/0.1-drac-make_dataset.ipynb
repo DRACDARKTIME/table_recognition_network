{
 "cells": [
  {
   "cell_type": "code",
   "execution_count": 110,
   "metadata": {},
   "outputs": [],
   "source": [
    "%load_ext autoreload\n",
    "%autoreload 2"
   ]
  },
  {
   "cell_type": "code",
   "execution_count": 135,
   "metadata": {},
   "outputs": [],
   "source": [
    "import red_tables.utils.paths as path\n",
    "import os\n",
    "import red_tables.utils.funtions as funtions"
   ]
  },
  {
   "cell_type": "code",
   "execution_count": null,
   "metadata": {},
   "outputs": [],
   "source": [
    "Targets\n",
    "#1x1\n",
    "#1x2\n",
    "#1x3\n",
    "#2X1\n",
    "#2x2\n",
    "#2x3\n",
    "#3X1\n",
    "#3x2\n",
    "#3x3"
   ]
  },
  {
   "cell_type": "code",
   "execution_count": null,
   "metadata": {},
   "outputs": [],
   "source": []
  },
  {
   "cell_type": "code",
   "execution_count": 126,
   "metadata": {},
   "outputs": [],
   "source": [
    "dirs = {}\n",
    "for dir in os.listdir(path.data_raw_dir()):\n",
    "    data_dir = path.data_raw_dir(dir)\n",
    "    name = os.listdir(data_dir)\n",
    "    name.sort()\n",
    "    dirs[f\"train_{dir}\"], dirs[f\"val_{dir}\"], dirs[f\"test_{dir}\"] = funtions.split_dataset(name)\n"
   ]
  },
  {
   "cell_type": "code",
   "execution_count": 150,
   "metadata": {},
   "outputs": [],
   "source": [
    "funtions.copy_files(path_source=path.data_raw_dir('tables_png'),\n",
    "     path_destination=path.data_interim_dir('features'),\n",
    "      list=os.listdir(path.data_raw_dir('tables_png')))"
   ]
  },
  {
   "cell_type": "code",
   "execution_count": 151,
   "metadata": {},
   "outputs": [],
   "source": [
    "for name in os.listdir(path.data_interim_dir('features')):\n",
    "    if '1X1' in name:\n",
    "        shutil.copy(path.data_interim_dir('features',name),path.data_processed_dir('1X1',name))\n",
    "    if '1X2' in name:\n",
    "        shutil.copy(path.data_interim_dir('features',name),path.data_processed_dir('1X2',name))\n",
    "    if '1X3' in name:\n",
    "        shutil.copy(path.data_interim_dir('features',name),path.data_processed_dir('1X3',name))\n",
    "    if '2X1' in name:\n",
    "        shutil.copy(path.data_interim_dir('features',name),path.data_processed_dir('2X1',name))\n",
    "    if '2X2' in name:\n",
    "        shutil.copy(path.data_interim_dir('features',name),path.data_processed_dir('2X2',name))\n",
    "    if '2X3' in name:\n",
    "        shutil.copy(path.data_interim_dir('features',name),path.data_processed_dir('2X3',name))\n",
    "    if '3X1' in name:\n",
    "        shutil.copy(path.data_interim_dir('features',name),path.data_processed_dir('3X1',name))\n",
    "    if '3X2' in name:\n",
    "        shutil.copy(path.data_interim_dir('features',name),path.data_processed_dir('3X2',name))\n",
    "    if '3X3' in name:\n",
    "        shutil.copy(path.data_interim_dir('features',name),path.data_processed_dir('3X3',name))"
   ]
  },
  {
   "cell_type": "markdown",
   "metadata": {},
   "source": [
    "Creando dataset tensorflow"
   ]
  },
  {
   "cell_type": "code",
   "execution_count": 134,
   "metadata": {},
   "outputs": [],
   "source": [
    "import matplotlib.pyplot as plt\n",
    "import tensorflow as tf\n",
    "import numpy as np"
   ]
  },
  {
   "cell_type": "code",
   "execution_count": 131,
   "metadata": {},
   "outputs": [],
   "source": [
    "def make_dir_longname(name):\n",
    "    list_dir = path.data_processed_dir(name)\n",
    "    dir_name = [os.path.join(list_dir,name_file) for name_file in os.listdir(list_dir)]\n",
    "    return dir_name"
   ]
  },
  {
   "cell_type": "code",
   "execution_count": 132,
   "metadata": {},
   "outputs": [],
   "source": [
    "train_dir = make_dir_longname(\"train\")\n",
    "val_dir = make_dir_longname(\"validation\")\n",
    "test_dir = make_dir_longname(\"test\")"
   ]
  },
  {
   "cell_type": "code",
   "execution_count": null,
   "metadata": {},
   "outputs": [],
   "source": [
    "train_ds = funtions.make_dataset(train_dir)\n",
    "val_ds   = funtions.make_dataset(val_dir)\n",
    "test_ds  = funtions.make_dataset(test_dir)"
   ]
  },
  {
   "cell_type": "code",
   "execution_count": null,
   "metadata": {},
   "outputs": [],
   "source": [
    "datasets = {\n",
    "    \"train\": train_ds,\n",
    "    \"validation\": val_ds,\n",
    "    \"test\": test_ds\n",
    "}\n",
    "\n",
    "for name, ds in datasets.items():\n",
    "    count = tf.data.experimental.cardinality(ds).numpy()\n",
    "    print(f\"Number of batches of 32 images {name}_ds: {count}\")"
   ]
  },
  {
   "cell_type": "code",
   "execution_count": null,
   "metadata": {},
   "outputs": [],
   "source": [
    "for i in train_ds:\n",
    "    plt.imshow(i[0],cmap='gray')\n",
    "    plt.axis('Off')\n",
    "    plt.show()\n",
    "    break"
   ]
  }
 ],
 "metadata": {
  "kernelspec": {
   "display_name": "red_tables",
   "language": "python",
   "name": "python3"
  },
  "language_info": {
   "codemirror_mode": {
    "name": "ipython",
    "version": 3
   },
   "file_extension": ".py",
   "mimetype": "text/x-python",
   "name": "python",
   "nbconvert_exporter": "python",
   "pygments_lexer": "ipython3",
   "version": "3.7.16"
  }
 },
 "nbformat": 4,
 "nbformat_minor": 2
}
